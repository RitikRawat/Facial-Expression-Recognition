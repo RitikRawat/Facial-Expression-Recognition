{
 "cells": [
  {
   "cell_type": "code",
   "execution_count": 2,
   "id": "526d1477",
   "metadata": {},
   "outputs": [],
   "source": [
    "import cv2\n",
    "import numpy as np\n",
    "import matplotlib.pyplot as plt\n",
    "from keras.models import load_model"
   ]
  },
  {
   "cell_type": "code",
   "execution_count": 4,
   "id": "f5aeb247",
   "metadata": {},
   "outputs": [],
   "source": [
    "model= load_model('cnn_model.h5')\n",
    "model.load_weights('cnn_model_weights.h5')\n"
   ]
  },
  {
   "cell_type": "code",
   "execution_count": 5,
   "id": "f7a3df15",
   "metadata": {},
   "outputs": [],
   "source": [
    "x_test = np.empty([1,48,48,1])"
   ]
  },
  {
   "cell_type": "code",
   "execution_count": 39,
   "id": "e35b2e18",
   "metadata": {},
   "outputs": [],
   "source": [
    "test_img = cv2.imread('happy.jpg')\n",
    "test_img = cv2.resize(test_img, (48,48))\n",
    "gray_image = cv2.cvtColor(test_img, cv2.COLOR_BGR2GRAY)\n",
    "input_img1 = np.array(gray_image, dtype='float32')\n",
    "input_img2 = input_img1 / 255\n",
    "x_test[0,:,:,0] = input_img2\n",
    "\n"
   ]
  },
  {
   "cell_type": "code",
   "execution_count": 40,
   "id": "8590404a",
   "metadata": {},
   "outputs": [
    {
     "name": "stdout",
     "output_type": "stream",
     "text": [
      "1/1 [==============================] - 0s 13ms/step\n"
     ]
    }
   ],
   "source": [
    "score =  model.predict(x_test, verbose = 1)"
   ]
  },
  {
   "cell_type": "code",
   "execution_count": 41,
   "id": "e68d65f9",
   "metadata": {},
   "outputs": [],
   "source": [
    "y_pred = np.argmax(score)"
   ]
  },
  {
   "cell_type": "code",
   "execution_count": 42,
   "id": "d55ec79f",
   "metadata": {},
   "outputs": [
    {
     "data": {
      "text/plain": [
       "3"
      ]
     },
     "execution_count": 42,
     "metadata": {},
     "output_type": "execute_result"
    }
   ],
   "source": [
    "y_pred"
   ]
  },
  {
   "cell_type": "code",
   "execution_count": 43,
   "id": "f2b331a7",
   "metadata": {},
   "outputs": [],
   "source": [
    "expressions = \"Angry\", \"Disgust\",\"Fear\", \"Happy\",\"Sad\", \"Surprise\", \"Neutral\""
   ]
  },
  {
   "cell_type": "code",
   "execution_count": 23,
   "id": "59483a16",
   "metadata": {},
   "outputs": [
    {
     "data": {
      "text/plain": [
       "('Angry', 'Disgust', 'Fear', 'Happy', 'Sad', 'Surprise', 'Neutral')"
      ]
     },
     "execution_count": 23,
     "metadata": {},
     "output_type": "execute_result"
    }
   ],
   "source": [
    "expressions"
   ]
  },
  {
   "cell_type": "code",
   "execution_count": 44,
   "id": "93e3b367",
   "metadata": {},
   "outputs": [
    {
     "name": "stdout",
     "output_type": "stream",
     "text": [
      "Happy\n"
     ]
    }
   ],
   "source": [
    "print(expressions[y_pred])"
   ]
  },
  {
   "cell_type": "code",
   "execution_count": null,
   "id": "d4a011f3",
   "metadata": {},
   "outputs": [],
   "source": []
  },
  {
   "cell_type": "code",
   "execution_count": null,
   "id": "5a22f5b9",
   "metadata": {},
   "outputs": [],
   "source": []
  }
 ],
 "metadata": {
  "kernelspec": {
   "display_name": "Python 3",
   "language": "python",
   "name": "python3"
  },
  "language_info": {
   "codemirror_mode": {
    "name": "ipython",
    "version": 3
   },
   "file_extension": ".py",
   "mimetype": "text/x-python",
   "name": "python",
   "nbconvert_exporter": "python",
   "pygments_lexer": "ipython3",
   "version": "3.7.10"
  }
 },
 "nbformat": 4,
 "nbformat_minor": 5
}
